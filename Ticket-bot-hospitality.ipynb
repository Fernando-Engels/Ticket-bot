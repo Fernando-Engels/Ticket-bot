{
 "cells": [
  {
   "cell_type": "code",
   "execution_count": 1,
   "metadata": {},
   "outputs": [],
   "source": [
    "\n",
    "from selenium import webdriver  \n",
    "from selenium.webdriver.common.keys import Keys\n",
    "import time\n",
    "from selenium.webdriver.common.by import By\n",
    "from selenium.webdriver.support.ui import WebDriverWait\n",
    "from selenium.webdriver.support import expected_conditions as EC\n",
    "from selenium.webdriver import ActionChains\n",
    "import smtplib\n"
   ]
  },
  {
   "cell_type": "code",
   "execution_count": 2,
   "metadata": {},
   "outputs": [
    {
     "name": "stderr",
     "output_type": "stream",
     "text": [
      "C:\\miniconda3\\envs\\dyc\\lib\\site-packages\\ipykernel_launcher.py:2: DeprecationWarning: executable_path has been deprecated, please pass in a Service object\n",
      "  \n"
     ]
    }
   ],
   "source": [
    "PATH=\"chromedriver.exe\"\n",
    "driver=webdriver.Chrome(PATH)"
   ]
  },
  {
   "cell_type": "code",
   "execution_count": 3,
   "metadata": {},
   "outputs": [],
   "source": [
    "  \n",
    "driver.get(\"https://hospitality.fifa.com/2022/en/e-commerce/buy-packages\") \n"
   ]
  },
  {
   "cell_type": "code",
   "execution_count": 4,
   "metadata": {},
   "outputs": [],
   "source": [
    "try:\n",
    "    element=WebDriverWait(driver,5).until(\n",
    "        EC.presence_of_element_located((By.ID,\"onetrust-accept-btn-handler\"))\n",
    "    )\n",
    "    element.click()\n",
    "except:\n",
    "    driver.quit()\n",
    "time.sleep(2)    "
   ]
  },
  {
   "cell_type": "code",
   "execution_count": null,
   "metadata": {},
   "outputs": [],
   "source": [
    "while 1:\n",
    "    try:\n",
    "        element = WebDriverWait(driver, 20).until(\n",
    "        EC.presence_of_all_elements_located((By.CLASS_NAME,\"inner-content\")))\n",
    "        element[1].click()  \n",
    "    except:\n",
    "        driver.refresh()\n",
    "        continue\n",
    "        \n",
    "    #login_form= driver.find_elements(By.CLASS_NAME,value=\"inner-content\")\n",
    "    \n",
    "    #login_form[1].click()   \n",
    "    time.sleep(2)\n",
    "    try:\n",
    "        element = WebDriverWait(driver, 20).until(\n",
    "        EC.presence_of_element_located((By.XPATH, \"//label[@for='SMP_MCL']\")))\n",
    "        \n",
    "        element.click()\n",
    "    except:\n",
    "        driver.refresh()\n",
    "        continue\n",
    "    time.sleep(2)    \n",
    "    try:\n",
    "        element = WebDriverWait(driver, 20).until(\n",
    "        EC.presence_of_element_located((By.LINK_TEXT ,\"Select match\")))\n",
    "        \n",
    "        element.click()\n",
    "    except:\n",
    "        driver.refresh()\n",
    "        continue \n",
    "    time.sleep(2)\n",
    "    #login_form2 = driver.find_element(By.XPATH, \"//label[@for='SMP_MCL']\").click()\n",
    "    \n",
    "    #driver.find_element(By.LINK_TEXT ,\"Select match\").click()\n",
    "    \n",
    "    x=driver.find_elements(By.XPATH ,\"//div[@id='session-24']//option[@value='3']\")\n",
    "    if len(x)!=0:\n",
    "        x[0].click()\n",
    "        driver.find_element(By.XPATH,\"//div[@id='session-24']//button[@class='atc']\").click()\n",
    "        break;\n",
    "    x=driver.find_elements(By.XPATH ,\"//div[@id='session-24']//option[@value='2']\")    \n",
    "    if len(x)!=0:\n",
    "        x[0].click()\n",
    "        driver.find_element(By.XPATH,\"//div[@id='session-24']//button[@class='atc']\").click()\n",
    "        break;\n",
    "    x=driver.find_elements(By.XPATH ,\"//div[@id='session-24']//option[@value='1']\")    \n",
    "    if len(x)!=0:\n",
    "        x[0].click()\n",
    "        driver.find_element(By.XPATH,\"//div[@id='session-24']//button[@class='atc']\").click()\n",
    "        break;\n",
    "    x=driver.find_elements(By.XPATH ,\"//div[@id='session-39']//option[@value='3']\")\n",
    "    if len(x)!=0:\n",
    "        x[0].click()\n",
    "        driver.find_element(By.XPATH,\"//div[@id='session-39']//button[@class='atc']\").click()\n",
    "        break;\n",
    "    x=driver.find_elements(By.XPATH ,\"//div[@id='session-39']//option[@value='2']\")    \n",
    "    if len(x)!=0:\n",
    "        x[0].click()\n",
    "        driver.find_element(By.XPATH,\"//div[@id='session-39']//button[@class='atc']\").click()\n",
    "        break;\n",
    "    x=driver.find_elements(By.XPATH ,\"//div[@id='session-39']//option[@value='1']\")    \n",
    "    if len(x)!=0:\n",
    "        x[0].click()\n",
    "        driver.find_element(By.XPATH,\"//div[@id='session-39']//button[@class='atc']\").click()\n",
    "        break;\n",
    "        \n",
    "    driver.refresh()  \n",
    "    time.sleep(2)\n",
    "    try:\n",
    "        element = WebDriverWait(driver, 20).until(\n",
    "        EC.presence_of_element_located((By.CSS_SELECTOR,\"body\")))\n",
    "       \n",
    "        element.send_keys(Keys.CONTROL, Keys.HOME);\n",
    "    except:\n",
    "        driver.refresh()\n",
    "        continue \n",
    "    time.sleep(2)    \n",
    "    #x=driver.find_element(By.CSS_SELECTOR,\"body\")\n",
    "    #x.send_keys(Keys.CONTROL, Keys.HOME);"
   ]
  },
  {
   "cell_type": "code",
   "execution_count": null,
   "metadata": {},
   "outputs": [],
   "source": [
    "    try:\n",
    "        element = WebDriverWait(driver, 20).until(\n",
    "        EC.presence_of_element_located((By.XPATH,\"//input[@id='Email']\")))\n",
    "        element.click()\n",
    "        element.send_keys(\"ACA PONES TU MAI\");\n",
    "    except:\n",
    "        driver.refresh()\n",
    "        "
   ]
  },
  {
   "cell_type": "code",
   "execution_count": null,
   "metadata": {},
   "outputs": [],
   "source": [
    "    try:\n",
    "        element = WebDriverWait(driver, 20).until(\n",
    "        EC.presence_of_element_located((By.XPATH,\"//input[@id='Password']\")))\n",
    "        element.click()\n",
    "        element.send_keys(\"ACA PONES TU CONTRASEÑA PARA HOSPITALITY\");\n",
    "        element.send_keys(Keys.ENTER)\n",
    "    except:\n",
    "        driver.refresh()"
   ]
  },
  {
   "cell_type": "code",
   "execution_count": null,
   "metadata": {},
   "outputs": [],
   "source": [
    " "
   ]
  },
  {
   "cell_type": "code",
   "execution_count": null,
   "metadata": {},
   "outputs": [],
   "source": [
    "server=smtplib.SMTP(\"smtp.gmail.com\",587)\n",
    "server.starttls()\n",
    "server.login(\"pepokatramelo@gmail.com\",\"jkdfxdkfuylwapfo\")\n",
    "server.sendmail(\"pepokatramelo@gmail.com\",\"ACA PONES TU MAIL DE NUEVO DONDE TE LLEGA EL AVISO\",\"ESTAN LAS ENTRADAS, ANDA A LA COMPUTADORA\")"
   ]
  },
  {
   "cell_type": "code",
   "execution_count": null,
   "metadata": {},
   "outputs": [],
   "source": []
  },
  {
   "cell_type": "code",
   "execution_count": null,
   "metadata": {},
   "outputs": [],
   "source": []
  },
  {
   "cell_type": "code",
   "execution_count": null,
   "metadata": {},
   "outputs": [],
   "source": []
  },
  {
   "cell_type": "code",
   "execution_count": null,
   "metadata": {},
   "outputs": [],
   "source": []
  },
  {
   "cell_type": "code",
   "execution_count": null,
   "metadata": {},
   "outputs": [],
   "source": [
    "\n"
   ]
  },
  {
   "cell_type": "code",
   "execution_count": null,
   "metadata": {},
   "outputs": [],
   "source": [
    "   \n",
    " "
   ]
  },
  {
   "cell_type": "code",
   "execution_count": null,
   "metadata": {},
   "outputs": [],
   "source": []
  },
  {
   "cell_type": "code",
   "execution_count": null,
   "metadata": {},
   "outputs": [],
   "source": []
  },
  {
   "cell_type": "code",
   "execution_count": null,
   "metadata": {},
   "outputs": [],
   "source": []
  },
  {
   "cell_type": "code",
   "execution_count": null,
   "metadata": {},
   "outputs": [],
   "source": []
  },
  {
   "cell_type": "code",
   "execution_count": null,
   "metadata": {},
   "outputs": [],
   "source": []
  },
  {
   "cell_type": "code",
   "execution_count": null,
   "metadata": {},
   "outputs": [],
   "source": []
  },
  {
   "cell_type": "code",
   "execution_count": null,
   "metadata": {},
   "outputs": [],
   "source": []
  },
  {
   "cell_type": "code",
   "execution_count": null,
   "metadata": {},
   "outputs": [],
   "source": []
  },
  {
   "cell_type": "code",
   "execution_count": null,
   "metadata": {},
   "outputs": [],
   "source": [
    "\n"
   ]
  },
  {
   "cell_type": "code",
   "execution_count": null,
   "metadata": {},
   "outputs": [],
   "source": []
  },
  {
   "cell_type": "code",
   "execution_count": null,
   "metadata": {},
   "outputs": [],
   "source": []
  },
  {
   "cell_type": "code",
   "execution_count": null,
   "metadata": {},
   "outputs": [],
   "source": []
  },
  {
   "cell_type": "code",
   "execution_count": null,
   "metadata": {},
   "outputs": [],
   "source": []
  },
  {
   "cell_type": "code",
   "execution_count": null,
   "metadata": {},
   "outputs": [],
   "source": []
  },
  {
   "cell_type": "code",
   "execution_count": null,
   "metadata": {},
   "outputs": [],
   "source": []
  },
  {
   "cell_type": "code",
   "execution_count": null,
   "metadata": {},
   "outputs": [],
   "source": []
  },
  {
   "cell_type": "code",
   "execution_count": null,
   "metadata": {},
   "outputs": [],
   "source": []
  },
  {
   "cell_type": "code",
   "execution_count": null,
   "metadata": {},
   "outputs": [],
   "source": [
    "\n"
   ]
  },
  {
   "cell_type": "code",
   "execution_count": null,
   "metadata": {},
   "outputs": [],
   "source": []
  },
  {
   "cell_type": "code",
   "execution_count": null,
   "metadata": {},
   "outputs": [],
   "source": []
  },
  {
   "cell_type": "code",
   "execution_count": null,
   "metadata": {},
   "outputs": [],
   "source": []
  },
  {
   "cell_type": "code",
   "execution_count": null,
   "metadata": {},
   "outputs": [],
   "source": []
  }
 ],
 "metadata": {
  "kernelspec": {
   "display_name": "Python 3",
   "language": "python",
   "name": "python3"
  },
  "language_info": {
   "codemirror_mode": {
    "name": "ipython",
    "version": 3
   },
   "file_extension": ".py",
   "mimetype": "text/x-python",
   "name": "python",
   "nbconvert_exporter": "python",
   "pygments_lexer": "ipython3",
   "version": "3.7.9"
  }
 },
 "nbformat": 4,
 "nbformat_minor": 4
}
