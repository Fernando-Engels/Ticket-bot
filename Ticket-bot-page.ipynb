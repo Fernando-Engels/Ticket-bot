{
 "cells": [
  {
   "cell_type": "code",
   "execution_count": 1,
   "metadata": {},
   "outputs": [],
   "source": [
    "\n",
    "from selenium import webdriver  \n",
    "from selenium.webdriver.common.keys import Keys\n",
    "import time\n",
    "from selenium.webdriver.common.by import By\n",
    "from selenium.webdriver.support.ui import WebDriverWait\n",
    "from selenium.webdriver.support import expected_conditions as EC\n",
    "from selenium.webdriver import ActionChains\n",
    "import smtplib"
   ]
  },
  {
   "cell_type": "code",
   "execution_count": 2,
   "metadata": {},
   "outputs": [
    {
     "name": "stderr",
     "output_type": "stream",
     "text": [
      "C:\\miniconda3\\envs\\dyc\\lib\\site-packages\\ipykernel_launcher.py:2: DeprecationWarning: executable_path has been deprecated, please pass in a Service object\n",
      "  \n"
     ]
    },
    {
     "ename": "SessionNotCreatedException",
     "evalue": "Message: session not created: This version of ChromeDriver only supports Chrome version 106\nCurrent browser version is 108.0.5359.99 with binary path C:\\Program Files (x86)\\Google\\Chrome\\Application\\chrome.exe\nStacktrace:\nBacktrace:\n\tOrdinal0 [0x009F1ED3+2236115]\n\tOrdinal0 [0x009892F1+1807089]\n\tOrdinal0 [0x008966FD+812797]\n\tOrdinal0 [0x008B8C6D+953453]\n\tOrdinal0 [0x008B4200+934400]\n\tOrdinal0 [0x008B19C9+924105]\n\tOrdinal0 [0x008E806C+1146988]\n\tOrdinal0 [0x008E7A6A+1145450]\n\tOrdinal0 [0x008E18A6+1120422]\n\tOrdinal0 [0x008BA73D+960317]\n\tOrdinal0 [0x008BB71F+964383]\n\tGetHandleVerifier [0x00C9E7E2+2743074]\n\tGetHandleVerifier [0x00C908D4+2685972]\n\tGetHandleVerifier [0x00A82BAA+532202]\n\tGetHandleVerifier [0x00A81990+527568]\n\tOrdinal0 [0x0099080C+1837068]\n\tOrdinal0 [0x00994CD8+1854680]\n\tOrdinal0 [0x00994DC5+1854917]\n\tOrdinal0 [0x0099ED64+1895780]\n\tBaseThreadInitThunk [0x76B0FEF9+25]\n\tRtlGetAppContainerNamedObjectPath [0x77E97BBE+286]\n\tRtlGetAppContainerNamedObjectPath [0x77E97B8E+238]\n",
     "output_type": "error",
     "traceback": [
      "\u001b[1;31m---------------------------------------------------------------------------\u001b[0m",
      "\u001b[1;31mSessionNotCreatedException\u001b[0m                Traceback (most recent call last)",
      "\u001b[1;32m<ipython-input-2-9679484fafc7>\u001b[0m in \u001b[0;36m<module>\u001b[1;34m\u001b[0m\n\u001b[0;32m      1\u001b[0m \u001b[0mPATH\u001b[0m\u001b[1;33m=\u001b[0m\u001b[1;34m\"chromedriver-Copy1.exe\"\u001b[0m\u001b[1;33m\u001b[0m\u001b[1;33m\u001b[0m\u001b[0m\n\u001b[1;32m----> 2\u001b[1;33m \u001b[0mdriver\u001b[0m\u001b[1;33m=\u001b[0m\u001b[0mwebdriver\u001b[0m\u001b[1;33m.\u001b[0m\u001b[0mChrome\u001b[0m\u001b[1;33m(\u001b[0m\u001b[0mPATH\u001b[0m\u001b[1;33m)\u001b[0m\u001b[1;33m\u001b[0m\u001b[1;33m\u001b[0m\u001b[0m\n\u001b[0m",
      "\u001b[1;32mC:\\miniconda3\\envs\\dyc\\lib\\site-packages\\selenium\\webdriver\\chrome\\webdriver.py\u001b[0m in \u001b[0;36m__init__\u001b[1;34m(self, executable_path, port, options, service_args, desired_capabilities, service_log_path, chrome_options, service, keep_alive)\u001b[0m\n\u001b[0;32m     70\u001b[0m                          \u001b[0mport\u001b[0m\u001b[1;33m,\u001b[0m \u001b[0moptions\u001b[0m\u001b[1;33m,\u001b[0m\u001b[1;33m\u001b[0m\u001b[1;33m\u001b[0m\u001b[0m\n\u001b[0;32m     71\u001b[0m                          \u001b[0mservice_args\u001b[0m\u001b[1;33m,\u001b[0m \u001b[0mdesired_capabilities\u001b[0m\u001b[1;33m,\u001b[0m\u001b[1;33m\u001b[0m\u001b[1;33m\u001b[0m\u001b[0m\n\u001b[1;32m---> 72\u001b[1;33m                          service_log_path, service, keep_alive)\n\u001b[0m",
      "\u001b[1;32mC:\\miniconda3\\envs\\dyc\\lib\\site-packages\\selenium\\webdriver\\chromium\\webdriver.py\u001b[0m in \u001b[0;36m__init__\u001b[1;34m(self, browser_name, vendor_prefix, port, options, service_args, desired_capabilities, service_log_path, service, keep_alive)\u001b[0m\n\u001b[0;32m     95\u001b[0m                     \u001b[0mbrowser_name\u001b[0m\u001b[1;33m=\u001b[0m\u001b[0mbrowser_name\u001b[0m\u001b[1;33m,\u001b[0m \u001b[0mvendor_prefix\u001b[0m\u001b[1;33m=\u001b[0m\u001b[0mvendor_prefix\u001b[0m\u001b[1;33m,\u001b[0m\u001b[1;33m\u001b[0m\u001b[1;33m\u001b[0m\u001b[0m\n\u001b[0;32m     96\u001b[0m                     keep_alive=keep_alive, ignore_proxy=_ignore_proxy),\n\u001b[1;32m---> 97\u001b[1;33m                 options=options)\n\u001b[0m\u001b[0;32m     98\u001b[0m         \u001b[1;32mexcept\u001b[0m \u001b[0mException\u001b[0m\u001b[1;33m:\u001b[0m\u001b[1;33m\u001b[0m\u001b[1;33m\u001b[0m\u001b[0m\n\u001b[0;32m     99\u001b[0m             \u001b[0mself\u001b[0m\u001b[1;33m.\u001b[0m\u001b[0mquit\u001b[0m\u001b[1;33m(\u001b[0m\u001b[1;33m)\u001b[0m\u001b[1;33m\u001b[0m\u001b[1;33m\u001b[0m\u001b[0m\n",
      "\u001b[1;32mC:\\miniconda3\\envs\\dyc\\lib\\site-packages\\selenium\\webdriver\\remote\\webdriver.py\u001b[0m in \u001b[0;36m__init__\u001b[1;34m(self, command_executor, desired_capabilities, browser_profile, proxy, keep_alive, file_detector, options)\u001b[0m\n\u001b[0;32m    274\u001b[0m         \u001b[0mself\u001b[0m\u001b[1;33m.\u001b[0m\u001b[0m_authenticator_id\u001b[0m \u001b[1;33m=\u001b[0m \u001b[1;32mNone\u001b[0m\u001b[1;33m\u001b[0m\u001b[1;33m\u001b[0m\u001b[0m\n\u001b[0;32m    275\u001b[0m         \u001b[0mself\u001b[0m\u001b[1;33m.\u001b[0m\u001b[0mstart_client\u001b[0m\u001b[1;33m(\u001b[0m\u001b[1;33m)\u001b[0m\u001b[1;33m\u001b[0m\u001b[1;33m\u001b[0m\u001b[0m\n\u001b[1;32m--> 276\u001b[1;33m         \u001b[0mself\u001b[0m\u001b[1;33m.\u001b[0m\u001b[0mstart_session\u001b[0m\u001b[1;33m(\u001b[0m\u001b[0mcapabilities\u001b[0m\u001b[1;33m,\u001b[0m \u001b[0mbrowser_profile\u001b[0m\u001b[1;33m)\u001b[0m\u001b[1;33m\u001b[0m\u001b[1;33m\u001b[0m\u001b[0m\n\u001b[0m\u001b[0;32m    277\u001b[0m \u001b[1;33m\u001b[0m\u001b[0m\n\u001b[0;32m    278\u001b[0m     \u001b[1;32mdef\u001b[0m \u001b[0m__repr__\u001b[0m\u001b[1;33m(\u001b[0m\u001b[0mself\u001b[0m\u001b[1;33m)\u001b[0m\u001b[1;33m:\u001b[0m\u001b[1;33m\u001b[0m\u001b[1;33m\u001b[0m\u001b[0m\n",
      "\u001b[1;32mC:\\miniconda3\\envs\\dyc\\lib\\site-packages\\selenium\\webdriver\\remote\\webdriver.py\u001b[0m in \u001b[0;36mstart_session\u001b[1;34m(self, capabilities, browser_profile)\u001b[0m\n\u001b[0;32m    367\u001b[0m         \u001b[0mw3c_caps\u001b[0m \u001b[1;33m=\u001b[0m \u001b[0m_make_w3c_caps\u001b[0m\u001b[1;33m(\u001b[0m\u001b[0mcapabilities\u001b[0m\u001b[1;33m)\u001b[0m\u001b[1;33m\u001b[0m\u001b[1;33m\u001b[0m\u001b[0m\n\u001b[0;32m    368\u001b[0m         \u001b[0mparameters\u001b[0m \u001b[1;33m=\u001b[0m \u001b[1;33m{\u001b[0m\u001b[1;34m\"capabilities\"\u001b[0m\u001b[1;33m:\u001b[0m \u001b[0mw3c_caps\u001b[0m\u001b[1;33m}\u001b[0m\u001b[1;33m\u001b[0m\u001b[1;33m\u001b[0m\u001b[0m\n\u001b[1;32m--> 369\u001b[1;33m         \u001b[0mresponse\u001b[0m \u001b[1;33m=\u001b[0m \u001b[0mself\u001b[0m\u001b[1;33m.\u001b[0m\u001b[0mexecute\u001b[0m\u001b[1;33m(\u001b[0m\u001b[0mCommand\u001b[0m\u001b[1;33m.\u001b[0m\u001b[0mNEW_SESSION\u001b[0m\u001b[1;33m,\u001b[0m \u001b[0mparameters\u001b[0m\u001b[1;33m)\u001b[0m\u001b[1;33m\u001b[0m\u001b[1;33m\u001b[0m\u001b[0m\n\u001b[0m\u001b[0;32m    370\u001b[0m         \u001b[1;32mif\u001b[0m \u001b[1;34m'sessionId'\u001b[0m \u001b[1;32mnot\u001b[0m \u001b[1;32min\u001b[0m \u001b[0mresponse\u001b[0m\u001b[1;33m:\u001b[0m\u001b[1;33m\u001b[0m\u001b[1;33m\u001b[0m\u001b[0m\n\u001b[0;32m    371\u001b[0m             \u001b[0mresponse\u001b[0m \u001b[1;33m=\u001b[0m \u001b[0mresponse\u001b[0m\u001b[1;33m[\u001b[0m\u001b[1;34m'value'\u001b[0m\u001b[1;33m]\u001b[0m\u001b[1;33m\u001b[0m\u001b[1;33m\u001b[0m\u001b[0m\n",
      "\u001b[1;32mC:\\miniconda3\\envs\\dyc\\lib\\site-packages\\selenium\\webdriver\\remote\\webdriver.py\u001b[0m in \u001b[0;36mexecute\u001b[1;34m(self, driver_command, params)\u001b[0m\n\u001b[0;32m    432\u001b[0m         \u001b[0mresponse\u001b[0m \u001b[1;33m=\u001b[0m \u001b[0mself\u001b[0m\u001b[1;33m.\u001b[0m\u001b[0mcommand_executor\u001b[0m\u001b[1;33m.\u001b[0m\u001b[0mexecute\u001b[0m\u001b[1;33m(\u001b[0m\u001b[0mdriver_command\u001b[0m\u001b[1;33m,\u001b[0m \u001b[0mparams\u001b[0m\u001b[1;33m)\u001b[0m\u001b[1;33m\u001b[0m\u001b[1;33m\u001b[0m\u001b[0m\n\u001b[0;32m    433\u001b[0m         \u001b[1;32mif\u001b[0m \u001b[0mresponse\u001b[0m\u001b[1;33m:\u001b[0m\u001b[1;33m\u001b[0m\u001b[1;33m\u001b[0m\u001b[0m\n\u001b[1;32m--> 434\u001b[1;33m             \u001b[0mself\u001b[0m\u001b[1;33m.\u001b[0m\u001b[0merror_handler\u001b[0m\u001b[1;33m.\u001b[0m\u001b[0mcheck_response\u001b[0m\u001b[1;33m(\u001b[0m\u001b[0mresponse\u001b[0m\u001b[1;33m)\u001b[0m\u001b[1;33m\u001b[0m\u001b[1;33m\u001b[0m\u001b[0m\n\u001b[0m\u001b[0;32m    435\u001b[0m             response['value'] = self._unwrap_value(\n\u001b[0;32m    436\u001b[0m                 response.get('value', None))\n",
      "\u001b[1;32mC:\\miniconda3\\envs\\dyc\\lib\\site-packages\\selenium\\webdriver\\remote\\errorhandler.py\u001b[0m in \u001b[0;36mcheck_response\u001b[1;34m(self, response)\u001b[0m\n\u001b[0;32m    241\u001b[0m                 \u001b[0malert_text\u001b[0m \u001b[1;33m=\u001b[0m \u001b[0mvalue\u001b[0m\u001b[1;33m[\u001b[0m\u001b[1;34m'alert'\u001b[0m\u001b[1;33m]\u001b[0m\u001b[1;33m.\u001b[0m\u001b[0mget\u001b[0m\u001b[1;33m(\u001b[0m\u001b[1;34m'text'\u001b[0m\u001b[1;33m)\u001b[0m\u001b[1;33m\u001b[0m\u001b[1;33m\u001b[0m\u001b[0m\n\u001b[0;32m    242\u001b[0m             \u001b[1;32mraise\u001b[0m \u001b[0mexception_class\u001b[0m\u001b[1;33m(\u001b[0m\u001b[0mmessage\u001b[0m\u001b[1;33m,\u001b[0m \u001b[0mscreen\u001b[0m\u001b[1;33m,\u001b[0m \u001b[0mstacktrace\u001b[0m\u001b[1;33m,\u001b[0m \u001b[0malert_text\u001b[0m\u001b[1;33m)\u001b[0m  \u001b[1;31m# type: ignore[call-arg]  # mypy is not smart enough here\u001b[0m\u001b[1;33m\u001b[0m\u001b[1;33m\u001b[0m\u001b[0m\n\u001b[1;32m--> 243\u001b[1;33m         \u001b[1;32mraise\u001b[0m \u001b[0mexception_class\u001b[0m\u001b[1;33m(\u001b[0m\u001b[0mmessage\u001b[0m\u001b[1;33m,\u001b[0m \u001b[0mscreen\u001b[0m\u001b[1;33m,\u001b[0m \u001b[0mstacktrace\u001b[0m\u001b[1;33m)\u001b[0m\u001b[1;33m\u001b[0m\u001b[1;33m\u001b[0m\u001b[0m\n\u001b[0m",
      "\u001b[1;31mSessionNotCreatedException\u001b[0m: Message: session not created: This version of ChromeDriver only supports Chrome version 106\nCurrent browser version is 108.0.5359.99 with binary path C:\\Program Files (x86)\\Google\\Chrome\\Application\\chrome.exe\nStacktrace:\nBacktrace:\n\tOrdinal0 [0x009F1ED3+2236115]\n\tOrdinal0 [0x009892F1+1807089]\n\tOrdinal0 [0x008966FD+812797]\n\tOrdinal0 [0x008B8C6D+953453]\n\tOrdinal0 [0x008B4200+934400]\n\tOrdinal0 [0x008B19C9+924105]\n\tOrdinal0 [0x008E806C+1146988]\n\tOrdinal0 [0x008E7A6A+1145450]\n\tOrdinal0 [0x008E18A6+1120422]\n\tOrdinal0 [0x008BA73D+960317]\n\tOrdinal0 [0x008BB71F+964383]\n\tGetHandleVerifier [0x00C9E7E2+2743074]\n\tGetHandleVerifier [0x00C908D4+2685972]\n\tGetHandleVerifier [0x00A82BAA+532202]\n\tGetHandleVerifier [0x00A81990+527568]\n\tOrdinal0 [0x0099080C+1837068]\n\tOrdinal0 [0x00994CD8+1854680]\n\tOrdinal0 [0x00994DC5+1854917]\n\tOrdinal0 [0x0099ED64+1895780]\n\tBaseThreadInitThunk [0x76B0FEF9+25]\n\tRtlGetAppContainerNamedObjectPath [0x77E97BBE+286]\n\tRtlGetAppContainerNamedObjectPath [0x77E97B8E+238]\n"
     ]
    }
   ],
   "source": [
    "PATH=\"chromedriver-Copy1.exe\"\n",
    "driver=webdriver.Chrome(PATH)"
   ]
  },
  {
   "cell_type": "code",
   "execution_count": 3,
   "metadata": {},
   "outputs": [],
   "source": [
    "driver.get(\"https://resale-intl.fwc22.tickets.fifa.com/secure/selection/event/date/product/101397570845/lang/es\") "
   ]
  },
  {
   "cell_type": "code",
   "execution_count": 4,
   "metadata": {},
   "outputs": [],
   "source": [
    "try:\n",
    "    element=WebDriverWait(driver,5).until(\n",
    "        EC.presence_of_element_located((By.ID,\"onetrust-accept-btn-handler\"))\n",
    "    )\n",
    "    element.click()\n",
    "except:\n",
    "    driver.quit()"
   ]
  },
  {
   "cell_type": "code",
   "execution_count": 5,
   "metadata": {},
   "outputs": [
    {
     "ename": "TimeoutException",
     "evalue": "Message: timeout: Timed out receiving message from renderer: 600.000\n  (Session info: chrome=107.0.5304.108)\nStacktrace:\nBacktrace:\n\tOrdinal0 [0x002E1ED3+2236115]\n\tOrdinal0 [0x002792F1+1807089]\n\tOrdinal0 [0x001866FD+812797]\n\tOrdinal0 [0x00179449+758857]\n\tOrdinal0 [0x001792C1+758465]\n\tOrdinal0 [0x00178113+753939]\n\tOrdinal0 [0x0017861D+755229]\n\tOrdinal0 [0x00177D25+752933]\n\tOrdinal0 [0x00182083+794755]\n\tOrdinal0 [0x00177CD5+752853]\n\tOrdinal0 [0x00178EE6+757478]\n\tOrdinal0 [0x00178113+753939]\n\tOrdinal0 [0x0017861D+755229]\n\tOrdinal0 [0x00177D25+752933]\n\tOrdinal0 [0x0017FBB8+785336]\n\tOrdinal0 [0x00177CD5+752853]\n\tOrdinal0 [0x00178EE6+757478]\n\tOrdinal0 [0x00178113+753939]\n\tOrdinal0 [0x0017861D+755229]\n\tOrdinal0 [0x00177D25+752933]\n\tOrdinal0 [0x0017D5C2+775618]\n\tOrdinal0 [0x00177CD5+752853]\n\tOrdinal0 [0x00178EE6+757478]\n\tOrdinal0 [0x00178113+753939]\n\tOrdinal0 [0x0017861D+755229]\n\tOrdinal0 [0x00177D25+752933]\n\tOrdinal0 [0x00172F2D+732973]\n\tOrdinal0 [0x00177CD5+752853]\n\tOrdinal0 [0x00178EE6+757478]\n\tOrdinal0 [0x00178113+753939]\n\tOrdinal0 [0x0017861D+755229]\n\tOrdinal0 [0x00177D25+752933]\n\tOrdinal0 [0x00182083+794755]\n\tOrdinal0 [0x00177CD5+752853]\n\tOrdinal0 [0x00178EE6+757478]\n\tOrdinal0 [0x00178113+753939]\n\tOrdinal0 [0x0017861D+755229]\n\tOrdinal0 [0x00177D25+752933]\n\tOrdinal0 [0x0017FBB8+785336]\n\tOrdinal0 [0x00177CD5+752853]\n\tOrdinal0 [0x00178EE6+757478]\n\tOrdinal0 [0x00178113+753939]\n\tOrdinal0 [0x0017861D+755229]\n\tOrdinal0 [0x00177D25+752933]\n\tOrdinal0 [0x0017D5C2+775618]\n\tOrdinal0 [0x00177CD5+752853]\n\tOrdinal0 [0x001774FD+750845]\n\tOrdinal0 [0x001775ED+751085]\n\tOrdinal0 [0x0017791A+751898]\n\tOrdinal0 [0x001777D8+751576]\n\tOrdinal0 [0x00187B63+818019]\n\tOrdinal0 [0x001E518A+1200522]\n\tOrdinal0 [0x001D18A6+1120422]\n\tOrdinal0 [0x001AA73D+960317]\n\tOrdinal0 [0x001AB71F+964383]\n\tGetHandleVerifier [0x0058E7E2+2743074]\n\tGetHandleVerifier [0x005808D4+2685972]\n\tGetHandleVerifier [0x00372BAA+532202]\n\tGetHandleVerifier [0x00371990+527568]\n\tOrdinal0 [0x0028080C+1837068]\n\tOrdinal0 [0x00284CD8+1854680]\n\tOrdinal0 [0x00284DC5+1854917]\n\tOrdinal0 [0x0028ED64+1895780]\n\tBaseThreadInitThunk [0x76B0FEF9+25]\n\tRtlGetAppContainerNamedObjectPath [0x77E97BBE+286]\n\tRtlGetAppContainerNamedObjectPath [0x77E97B8E+238]\n\t(No symbol) [0x00000000]\n",
     "output_type": "error",
     "traceback": [
      "\u001b[1;31m---------------------------------------------------------------------------\u001b[0m",
      "\u001b[1;31mTimeoutException\u001b[0m                          Traceback (most recent call last)",
      "\u001b[1;32m<ipython-input-5-71d529635ff1>\u001b[0m in \u001b[0;36m<module>\u001b[1;34m\u001b[0m\n\u001b[0;32m      2\u001b[0m     \u001b[1;32mwhile\u001b[0m \u001b[1;36m1\u001b[0m\u001b[1;33m:\u001b[0m\u001b[1;33m\u001b[0m\u001b[1;33m\u001b[0m\u001b[0m\n\u001b[0;32m      3\u001b[0m \u001b[1;33m\u001b[0m\u001b[0m\n\u001b[1;32m----> 4\u001b[1;33m         \u001b[0mx\u001b[0m\u001b[1;33m=\u001b[0m\u001b[0mdriver\u001b[0m\u001b[1;33m.\u001b[0m\u001b[0mfind_elements\u001b[0m\u001b[1;33m(\u001b[0m\u001b[0mBy\u001b[0m\u001b[1;33m.\u001b[0m\u001b[0mXPATH\u001b[0m \u001b[1;33m,\u001b[0m\u001b[1;34m\"//div[@class='performance_line_container']//div[@class='perf_details']//div[@id='availability_M28']//div[@class='tariff flex_center resale hide_availability']//div[@class='buttons']//span[@class='button performance-select-btn']\"\u001b[0m\u001b[1;33m)\u001b[0m\u001b[1;33m\u001b[0m\u001b[1;33m\u001b[0m\u001b[0m\n\u001b[0m\u001b[0;32m      5\u001b[0m         \u001b[1;32mif\u001b[0m \u001b[0mlen\u001b[0m\u001b[1;33m(\u001b[0m\u001b[0mx\u001b[0m\u001b[1;33m)\u001b[0m\u001b[1;33m!=\u001b[0m\u001b[1;36m0\u001b[0m\u001b[1;33m:\u001b[0m\u001b[1;33m\u001b[0m\u001b[1;33m\u001b[0m\u001b[0m\n\u001b[0;32m      6\u001b[0m             \u001b[1;32mbreak\u001b[0m\u001b[1;33m;\u001b[0m\u001b[1;33m\u001b[0m\u001b[1;33m\u001b[0m\u001b[0m\n",
      "\u001b[1;32mC:\\miniconda3\\envs\\dyc\\lib\\site-packages\\selenium\\webdriver\\remote\\webdriver.py\u001b[0m in \u001b[0;36mfind_elements\u001b[1;34m(self, by, value)\u001b[0m\n\u001b[0;32m    889\u001b[0m         return self.execute(Command.FIND_ELEMENTS, {\n\u001b[0;32m    890\u001b[0m             \u001b[1;34m'using'\u001b[0m\u001b[1;33m:\u001b[0m \u001b[0mby\u001b[0m\u001b[1;33m,\u001b[0m\u001b[1;33m\u001b[0m\u001b[1;33m\u001b[0m\u001b[0m\n\u001b[1;32m--> 891\u001b[1;33m             'value': value})['value'] or []\n\u001b[0m\u001b[0;32m    892\u001b[0m \u001b[1;33m\u001b[0m\u001b[0m\n\u001b[0;32m    893\u001b[0m     \u001b[1;33m@\u001b[0m\u001b[0mproperty\u001b[0m\u001b[1;33m\u001b[0m\u001b[1;33m\u001b[0m\u001b[0m\n",
      "\u001b[1;32mC:\\miniconda3\\envs\\dyc\\lib\\site-packages\\selenium\\webdriver\\remote\\webdriver.py\u001b[0m in \u001b[0;36mexecute\u001b[1;34m(self, driver_command, params)\u001b[0m\n\u001b[0;32m    432\u001b[0m         \u001b[0mresponse\u001b[0m \u001b[1;33m=\u001b[0m \u001b[0mself\u001b[0m\u001b[1;33m.\u001b[0m\u001b[0mcommand_executor\u001b[0m\u001b[1;33m.\u001b[0m\u001b[0mexecute\u001b[0m\u001b[1;33m(\u001b[0m\u001b[0mdriver_command\u001b[0m\u001b[1;33m,\u001b[0m \u001b[0mparams\u001b[0m\u001b[1;33m)\u001b[0m\u001b[1;33m\u001b[0m\u001b[1;33m\u001b[0m\u001b[0m\n\u001b[0;32m    433\u001b[0m         \u001b[1;32mif\u001b[0m \u001b[0mresponse\u001b[0m\u001b[1;33m:\u001b[0m\u001b[1;33m\u001b[0m\u001b[1;33m\u001b[0m\u001b[0m\n\u001b[1;32m--> 434\u001b[1;33m             \u001b[0mself\u001b[0m\u001b[1;33m.\u001b[0m\u001b[0merror_handler\u001b[0m\u001b[1;33m.\u001b[0m\u001b[0mcheck_response\u001b[0m\u001b[1;33m(\u001b[0m\u001b[0mresponse\u001b[0m\u001b[1;33m)\u001b[0m\u001b[1;33m\u001b[0m\u001b[1;33m\u001b[0m\u001b[0m\n\u001b[0m\u001b[0;32m    435\u001b[0m             response['value'] = self._unwrap_value(\n\u001b[0;32m    436\u001b[0m                 response.get('value', None))\n",
      "\u001b[1;32mC:\\miniconda3\\envs\\dyc\\lib\\site-packages\\selenium\\webdriver\\remote\\errorhandler.py\u001b[0m in \u001b[0;36mcheck_response\u001b[1;34m(self, response)\u001b[0m\n\u001b[0;32m    241\u001b[0m                 \u001b[0malert_text\u001b[0m \u001b[1;33m=\u001b[0m \u001b[0mvalue\u001b[0m\u001b[1;33m[\u001b[0m\u001b[1;34m'alert'\u001b[0m\u001b[1;33m]\u001b[0m\u001b[1;33m.\u001b[0m\u001b[0mget\u001b[0m\u001b[1;33m(\u001b[0m\u001b[1;34m'text'\u001b[0m\u001b[1;33m)\u001b[0m\u001b[1;33m\u001b[0m\u001b[1;33m\u001b[0m\u001b[0m\n\u001b[0;32m    242\u001b[0m             \u001b[1;32mraise\u001b[0m \u001b[0mexception_class\u001b[0m\u001b[1;33m(\u001b[0m\u001b[0mmessage\u001b[0m\u001b[1;33m,\u001b[0m \u001b[0mscreen\u001b[0m\u001b[1;33m,\u001b[0m \u001b[0mstacktrace\u001b[0m\u001b[1;33m,\u001b[0m \u001b[0malert_text\u001b[0m\u001b[1;33m)\u001b[0m  \u001b[1;31m# type: ignore[call-arg]  # mypy is not smart enough here\u001b[0m\u001b[1;33m\u001b[0m\u001b[1;33m\u001b[0m\u001b[0m\n\u001b[1;32m--> 243\u001b[1;33m         \u001b[1;32mraise\u001b[0m \u001b[0mexception_class\u001b[0m\u001b[1;33m(\u001b[0m\u001b[0mmessage\u001b[0m\u001b[1;33m,\u001b[0m \u001b[0mscreen\u001b[0m\u001b[1;33m,\u001b[0m \u001b[0mstacktrace\u001b[0m\u001b[1;33m)\u001b[0m\u001b[1;33m\u001b[0m\u001b[1;33m\u001b[0m\u001b[0m\n\u001b[0m",
      "\u001b[1;31mTimeoutException\u001b[0m: Message: timeout: Timed out receiving message from renderer: 600.000\n  (Session info: chrome=107.0.5304.108)\nStacktrace:\nBacktrace:\n\tOrdinal0 [0x002E1ED3+2236115]\n\tOrdinal0 [0x002792F1+1807089]\n\tOrdinal0 [0x001866FD+812797]\n\tOrdinal0 [0x00179449+758857]\n\tOrdinal0 [0x001792C1+758465]\n\tOrdinal0 [0x00178113+753939]\n\tOrdinal0 [0x0017861D+755229]\n\tOrdinal0 [0x00177D25+752933]\n\tOrdinal0 [0x00182083+794755]\n\tOrdinal0 [0x00177CD5+752853]\n\tOrdinal0 [0x00178EE6+757478]\n\tOrdinal0 [0x00178113+753939]\n\tOrdinal0 [0x0017861D+755229]\n\tOrdinal0 [0x00177D25+752933]\n\tOrdinal0 [0x0017FBB8+785336]\n\tOrdinal0 [0x00177CD5+752853]\n\tOrdinal0 [0x00178EE6+757478]\n\tOrdinal0 [0x00178113+753939]\n\tOrdinal0 [0x0017861D+755229]\n\tOrdinal0 [0x00177D25+752933]\n\tOrdinal0 [0x0017D5C2+775618]\n\tOrdinal0 [0x00177CD5+752853]\n\tOrdinal0 [0x00178EE6+757478]\n\tOrdinal0 [0x00178113+753939]\n\tOrdinal0 [0x0017861D+755229]\n\tOrdinal0 [0x00177D25+752933]\n\tOrdinal0 [0x00172F2D+732973]\n\tOrdinal0 [0x00177CD5+752853]\n\tOrdinal0 [0x00178EE6+757478]\n\tOrdinal0 [0x00178113+753939]\n\tOrdinal0 [0x0017861D+755229]\n\tOrdinal0 [0x00177D25+752933]\n\tOrdinal0 [0x00182083+794755]\n\tOrdinal0 [0x00177CD5+752853]\n\tOrdinal0 [0x00178EE6+757478]\n\tOrdinal0 [0x00178113+753939]\n\tOrdinal0 [0x0017861D+755229]\n\tOrdinal0 [0x00177D25+752933]\n\tOrdinal0 [0x0017FBB8+785336]\n\tOrdinal0 [0x00177CD5+752853]\n\tOrdinal0 [0x00178EE6+757478]\n\tOrdinal0 [0x00178113+753939]\n\tOrdinal0 [0x0017861D+755229]\n\tOrdinal0 [0x00177D25+752933]\n\tOrdinal0 [0x0017D5C2+775618]\n\tOrdinal0 [0x00177CD5+752853]\n\tOrdinal0 [0x001774FD+750845]\n\tOrdinal0 [0x001775ED+751085]\n\tOrdinal0 [0x0017791A+751898]\n\tOrdinal0 [0x001777D8+751576]\n\tOrdinal0 [0x00187B63+818019]\n\tOrdinal0 [0x001E518A+1200522]\n\tOrdinal0 [0x001D18A6+1120422]\n\tOrdinal0 [0x001AA73D+960317]\n\tOrdinal0 [0x001AB71F+964383]\n\tGetHandleVerifier [0x0058E7E2+2743074]\n\tGetHandleVerifier [0x005808D4+2685972]\n\tGetHandleVerifier [0x00372BAA+532202]\n\tGetHandleVerifier [0x00371990+527568]\n\tOrdinal0 [0x0028080C+1837068]\n\tOrdinal0 [0x00284CD8+1854680]\n\tOrdinal0 [0x00284DC5+1854917]\n\tOrdinal0 [0x0028ED64+1895780]\n\tBaseThreadInitThunk [0x76B0FEF9+25]\n\tRtlGetAppContainerNamedObjectPath [0x77E97BBE+286]\n\tRtlGetAppContainerNamedObjectPath [0x77E97B8E+238]\n\t(No symbol) [0x00000000]\n"
     ]
    }
   ],
   "source": [
    "while 1:\n",
    "    while 1:\n",
    "        \n",
    "        x=driver.find_elements(By.XPATH ,\"//div[@class='performance_line_container']//div[@class='perf_details']//div[@id='availability_M28']//div[@class='tariff flex_center resale hide_availability']//div[@class='buttons']//span[@class='button performance-select-btn']\")\n",
    "        if len(x)!=0:\n",
    "            break;\n",
    "        x=driver.find_elements(By.XPATH ,\"//div[@class='performance_line_container']//div[@class='perf_details']//div[@id='availability_M39']//div[@class='tariff flex_center resale hide_availability']//div[@class='buttons']//span[@class='button performance-select-btn']\")\n",
    "        if len(x)!=0:\n",
    "            break;\n",
    "        x=driver.find_elements(By.XPATH ,\"//div[@class='performance_line_container']//div[@class='perf_details']//div[@id='availability_M50']//div[@class='tariff flex_center resale hide_availability']//div[@class='buttons']//span[@class='button performance-select-btn']\")\n",
    "        if len(x)!=0:\n",
    "            break;\n",
    "        x=driver.find_elements(By.XPATH ,\"//div[@class='performance_line_container']//div[@class='perf_details']//div[@id='availability_M61']//div[@class='tariff flex_center resale hide_availability']//div[@class='buttons']//span[@class='button performance-select-btn']\")\n",
    "        if len(x)!=0:\n",
    "            break;    \n",
    "        x=driver.find_elements(By.XPATH ,\"//div[@class='performance_line_container']//div[@class='perf_details']//div[@id='availability_M64']//div[@class='tariff flex_center resale hide_availability']//div[@class='buttons']//span[@class='button performance-select-btn']\")\n",
    "        if len(x)!=0:\n",
    "            break;\n",
    "        #x=driver.find_elements(By.XPATH ,\"//div[@class='performance_line_container']//div[@class='perf_details']//div[@id='availability_M8']//div[@class='tariff flex_center resale hide_availability']//div[@class='buttons']//span[@class='button performance-select-btn']\")\n",
    "        #if len(x)!=0:\n",
    "        #    break;\n",
    "        driver.refresh()\n",
    "        time.sleep(5)\n",
    "    server=smtplib.SMTP(\"smtp.gmail.com\",587)\n",
    "    server.starttls()\n",
    "    server.login(\"pepokatramelo@gmail.com\",\"jkdfxdkfuylwapfo\")\n",
    "    server.sendmail(\"pepokatramelo@gmail.com\",\"fernandoengels@gmail.com\",\"HAY ENTRADAS\")\n",
    "    #server.sendmail(\"pepokatramelo@gmail.com\",\"santigroba@outlook.com\",\"HAY ENTRADAS\")\n",
    "    #server.sendmail(\"pepokatramelo@gmail.com\",\"nicolasgentile97@gmail.com\",\"HAY ENTRADAS\") \n",
    "    server.sendmail(\"pepokatramelo@gmail.com\",\"fernandoengels@hotmail.com\",\"HAY ENTRADAS\")\n",
    "    #server.sendmail(\"pepokatramelo@gmail.com\",\"Juaniripoll@hotmail.com\",\"HAY ENTRADAS\")\n",
    "    time.sleep(800)\n",
    "    driver.refresh()\n",
    "    \n",
    "        \n"
   ]
  },
  {
   "cell_type": "code",
   "execution_count": null,
   "metadata": {},
   "outputs": [],
   "source": [
    "\n"
   ]
  },
  {
   "cell_type": "code",
   "execution_count": null,
   "metadata": {},
   "outputs": [],
   "source": [
    "\n"
   ]
  },
  {
   "cell_type": "code",
   "execution_count": null,
   "metadata": {},
   "outputs": [],
   "source": []
  }
 ],
 "metadata": {
  "kernelspec": {
   "display_name": "Python 3",
   "language": "python",
   "name": "python3"
  },
  "language_info": {
   "codemirror_mode": {
    "name": "ipython",
    "version": 3
   },
   "file_extension": ".py",
   "mimetype": "text/x-python",
   "name": "python",
   "nbconvert_exporter": "python",
   "pygments_lexer": "ipython3",
   "version": "3.7.9"
  }
 },
 "nbformat": 4,
 "nbformat_minor": 4
}
